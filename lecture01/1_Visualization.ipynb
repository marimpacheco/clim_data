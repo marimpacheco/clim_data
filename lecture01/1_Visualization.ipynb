{
 "cells": [
  {
   "cell_type": "code",
   "execution_count": 1,
   "metadata": {},
   "outputs": [],
   "source": [
    "%matplotlib inline\n",
    "\n",
    "import numpy as np\n",
    "import xarray as xr\n",
    "import seaborn as sns\n",
    "import pandas as pd\n",
    "import matplotlib.pyplot as plt\n",
    "from matplotlib import patches as mpatch\n",
    "\n",
    "import json\n",
    "\n",
    "import cartopy.crs as ccrs\n",
    "\n",
    "sns.set_context('talk')\n",
    "sns.set_style('whitegrid')"
   ]
  },
  {
   "cell_type": "markdown",
   "metadata": {},
   "source": [
    "# Visualization"
   ]
  },
  {
   "cell_type": "code",
   "execution_count": 2,
   "metadata": {},
   "outputs": [],
   "source": [
    "data_path_nao = '../data/nao.dat'\n",
    "\n",
    "nao = np.loadtxt(data_path_nao)\n",
    "\n",
    "data_path = '../data/CRUTEM.4.6.0.0.anomalies.nc'\n",
    "\n",
    "ds = xr.open_dataset(data_path)\n",
    "ds.temperature_anomaly.attrs['units'] = u'°C'"
   ]
  },
  {
   "cell_type": "code",
   "execution_count": 3,
   "metadata": {},
   "outputs": [],
   "source": [
    "nao = xr.DataArray(nao[nao[:, 0] >= 1850, 1:13].flatten()[:len(ds.time)],\n",
    "                   coords=[('time', ds.time)],\n",
    "                   name='nao')\n",
    "nao = nao.where(nao != -99.99)"
   ]
  },
  {
   "cell_type": "code",
   "execution_count": 4,
   "metadata": {},
   "outputs": [],
   "source": [
    "ds = xr.merge([ds, nao])"
   ]
  },
  {
   "cell_type": "code",
   "execution_count": 5,
   "metadata": {},
   "outputs": [],
   "source": [
    "global_mean_temperature_anomaly = (\n",
    "    (ds.temperature_anomaly * np.cos(np.pi * ds.latitude / 180.))\n",
    "     .mean(('latitude', 'longitude'))\n",
    "     .resample(time='1Y').mean('time')\n",
    ")"
   ]
  },
  {
   "cell_type": "code",
   "execution_count": 6,
   "metadata": {},
   "outputs": [],
   "source": [
    "thesis_file = '../data/thesis_oceanrep.json'\n",
    "with open(thesis_file) as f:\n",
    "    thesis_json = json.load(f)"
   ]
  },
  {
   "cell_type": "code",
   "execution_count": 7,
   "metadata": {},
   "outputs": [],
   "source": [
    "def get_year(value):\n",
    "    try:\n",
    "        return int(value[:4])\n",
    "    except TypeError:\n",
    "        return value\n",
    "\n",
    "min_year = 2020\n",
    "for thesis in thesis_json:\n",
    "    min_year = min(min_year, get_year(thesis['date']))"
   ]
  },
  {
   "cell_type": "code",
   "execution_count": 8,
   "metadata": {},
   "outputs": [],
   "source": [
    "years = np.arange(min_year, 2020, 1)\n",
    "thesis_count = np.zeros_like(years)\n",
    "for thesis in thesis_json:\n",
    "    thesis_count[years == get_year(thesis['date'])] += 1"
   ]
  },
  {
   "cell_type": "code",
   "execution_count": 9,
   "metadata": {},
   "outputs": [],
   "source": [
    "thesis = xr.Dataset({'Thesis': ('time', thesis_count)}, coords={'time': years})"
   ]
  },
  {
   "cell_type": "markdown",
   "metadata": {},
   "source": [
    "# Principle of proportional ink"
   ]
  },
  {
   "cell_type": "code",
   "execution_count": null,
   "metadata": {},
   "outputs": [],
   "source": [
    "fig, ax = plt.subplots()\n",
    "# create 3x3 grid to plot the artists\n",
    "grid = np.mgrid[0.2:0.8:3j, 0.8:0.2:-3j].T.reshape(-1, 2)\n",
    "\n",
    "l = .1\n",
    "r = l / 2\n",
    "\n",
    "ax.add_patch(mpatch.Circle(grid[0], r, color='cornflowerblue'))\n",
    "ax.add_patch(mpatch.Circle(grid[1], r*np.sqrt(2), color='cornflowerblue'))\n",
    "ax.add_patch(mpatch.Circle(grid[2], 2*r, color='cornflowerblue'))\n",
    "\n",
    "ax.add_patch(mpatch.Rectangle(grid[3] - [l/2, l/2], l, l, color='cornflowerblue'))\n",
    "ax.add_patch(mpatch.Rectangle(grid[4] - [l*np.sqrt(2)/2, l*np.sqrt(2)/2], l*np.sqrt(2), l*np.sqrt(2), color='cornflowerblue'))\n",
    "ax.add_patch(mpatch.Rectangle(grid[5] - [l, l], 2*l, 2*l, color='cornflowerblue'))\n",
    "\n",
    "ax.add_patch(mpatch.Rectangle(grid[6] - [l/2, l/2], l, l, color='cornflowerblue'))\n",
    "ax.add_patch(mpatch.Rectangle(grid[7] - [l*np.sqrt(2)/2, l/2], l*np.sqrt(2), l, color='cornflowerblue'))\n",
    "ax.add_patch(mpatch.Rectangle(grid[8] - [l, l/2], 2*l, l, color='cornflowerblue'))\n",
    "\n",
    "plt.axis('equal')\n",
    "plt.axis('off')\n",
    "plt.tight_layout()\n",
    "\n",
    "plt.savefig(\"../img/1_proportional_ink.svg\")"
   ]
  },
  {
   "cell_type": "markdown",
   "metadata": {},
   "source": [
    "## Visualization along linear axis"
   ]
  },
  {
   "cell_type": "code",
   "execution_count": null,
   "metadata": {},
   "outputs": [],
   "source": [
    "# bad example\n",
    "nao_seas_median = ds.nao.groupby('time.season').mean()\n",
    "ax = plt.bar((1, 2, 3, 4), nao_seas_median+.5, bottom=-0.5, tick_label=nao_seas_median.season);\n",
    "plt.title(\"Seasonal mean NAO index\")\n",
    "plt.grid(False, axis='x')\n",
    "ax = plt.gca()\n",
    "ax.spines['top'].set_visible(False)\n",
    "ax.spines['right'].set_visible(False)\n",
    "ax.spines['bottom'].set_visible(False)\n",
    "plt.savefig(\"../img/1_proportial_ink_lin_axis_bad.svg\")"
   ]
  },
  {
   "cell_type": "code",
   "execution_count": null,
   "metadata": {},
   "outputs": [],
   "source": [
    "# good example\n",
    "nao_seas_median = ds.nao.groupby('time.season').mean()\n",
    "ax = plt.bar((1, 2, 3, 4), nao_seas_median, tick_label=nao_seas_median.season);\n",
    "plt.title(\"Seasonal mean NAO index\")\n",
    "plt.grid(False, axis='x')\n",
    "ax = plt.gca()\n",
    "ax.spines['top'].set_visible(False)\n",
    "ax.spines['right'].set_visible(False)\n",
    "ax.spines['bottom'].set_visible(False)\n",
    "plt.savefig(\"../img/1_proportial_ink_lin_axis_good.svg\")"
   ]
  },
  {
   "cell_type": "code",
   "execution_count": null,
   "metadata": {},
   "outputs": [],
   "source": [
    "# bad example\n",
    "plt.fill_between(\n",
    "    thesis.time[-5:-1], thesis.Thesis.cumsum('time')[-5:-1],\n",
    "    thesis.Thesis.cumsum('time')[-6],\n",
    "    alpha=.4\n",
    ");\n",
    "plt.xlabel('year')\n",
    "plt.title('Cummulative number of Thesis');\n",
    "plt.grid(False, axis='x')\n",
    "ax = plt.gca()\n",
    "ax.spines['top'].set_visible(False)\n",
    "ax.spines['right'].set_visible(False)\n",
    "ax.spines['bottom'].set_visible(False)\n",
    "plt.savefig(\"../img/1_proportial_ink_lin_axis_ts_bad.svg\", bbox_inches='tight', pad_inches=.1)"
   ]
  },
  {
   "cell_type": "code",
   "execution_count": null,
   "metadata": {},
   "outputs": [],
   "source": [
    "# good example\n",
    "plt.fill_between(\n",
    "    thesis.time[-5:-1], thesis.Thesis.cumsum('time')[-5:-1],\n",
    "#     thesis.Thesis.cumsum('time')[-6],\n",
    "    alpha=.4\n",
    ");\n",
    "plt.xlabel('year')\n",
    "plt.title('Cummulative number of Thesis');\n",
    "plt.grid(False, axis='x')\n",
    "ax = plt.gca()\n",
    "ax.spines['top'].set_visible(False)\n",
    "ax.spines['right'].set_visible(False)\n",
    "ax.spines['bottom'].set_visible(False)\n",
    "plt.savefig(\"../img/1_proportial_ink_lin_axis_ts_good.svg\", bbox_inches='tight', pad_inches=.1)"
   ]
  },
  {
   "cell_type": "markdown",
   "metadata": {},
   "source": [
    "## Visualization along log-axis"
   ]
  },
  {
   "cell_type": "code",
   "execution_count": null,
   "metadata": {},
   "outputs": [],
   "source": [
    "data = ((3e-3, 1000), (3, 3), (100, 30), (500, 2e-1), (50, 1))\n",
    "\n",
    "dim = len(data[0])\n",
    "w = 0.75\n",
    "dimw = w / dim\n",
    "\n",
    "fig, ax = plt.subplots()\n",
    "x = np.arange(len(data))\n",
    "for i in range(len(data[0])):\n",
    "    y = [d[i] for d in data]\n",
    "    b = ax.bar(x + i * dimw, [yl-0.001 for yl in y], dimw, bottom=0.001)\n",
    "\n",
    "ax.set_xticks(x + dimw / 2, map(str, x))\n",
    "ax.set_yscale('log')\n",
    "\n",
    "ax.set_xlabel('x')\n",
    "ax.set_ylabel('y');\n",
    "\n",
    "plt.savefig(\"../img/1_proportial_ink_log_axis_bad.svg\", bbox_inches='tight', pad_inches=.1)"
   ]
  },
  {
   "cell_type": "code",
   "execution_count": null,
   "metadata": {},
   "outputs": [],
   "source": [
    "dim = len(data[0])\n",
    "\n",
    "w = 0.75\n",
    "dimw = w / dim\n",
    "\n",
    "fig, ax = plt.subplots()\n",
    "x = np.arange(len(data))\n",
    "for i in range(len(data[0])):\n",
    "    y = [d[i] for d in data]\n",
    "    b = ax.bar(x[:-1] + i * dimw, [yl/y[-1]-1 for yl in y[:-1]], dimw, bottom=1.)\n",
    "\n",
    "ax.set_xticks(x + dimw / 2, map(str, x))\n",
    "ax.set_yscale('log')\n",
    "ax.set_yticks([10**i for i in range(-4, 5, 2)])\n",
    "\n",
    "ax.set_xlabel('x')\n",
    "ax.set_ylabel('y')\n",
    "\n",
    "ax.set_ylim(4e-5, 1e4)\n",
    "\n",
    "plt.savefig(\"../img/1_proportial_ink_log_axis_good.svg\", bbox_inches='tight', pad_inches=.1)"
   ]
  },
  {
   "cell_type": "markdown",
   "metadata": {},
   "source": [
    "## Some basic plots"
   ]
  },
  {
   "cell_type": "markdown",
   "metadata": {},
   "source": [
    "### Line Plots"
   ]
  },
  {
   "cell_type": "code",
   "execution_count": null,
   "metadata": {},
   "outputs": [],
   "source": [
    "seas_nao = ds.nao.resample(time='Q-NOV', label='right').mean('time')\n",
    "seas_nao[seas_nao['time.season'] == 'DJF'].plot();\n",
    "plt.ylabel(\"DJF NAO\");\n",
    "plt.savefig(\"../img/1_line_plot.svg\", bbox_inches='tight', pad_inches=.1)"
   ]
  },
  {
   "cell_type": "code",
   "execution_count": null,
   "metadata": {},
   "outputs": [],
   "source": [
    "((ds.temperature_anomaly * np.cos(np.pi * ds.latitude / 180.))\n",
    " .mean(('latitude', 'longitude'))\n",
    " .resample(time='1Y').mean('time')\n",
    " .plot()\n",
    ");\n",
    "((ds.temperature_anomaly * np.cos(np.pi * ds.latitude / 180.))\n",
    " .resample(time='1Y').mean('time')\n",
    " .mean(('latitude', 'longitude'))\n",
    " .plot()\n",
    ");"
   ]
  },
  {
   "cell_type": "markdown",
   "metadata": {},
   "source": [
    "### Scatter plots"
   ]
  },
  {
   "cell_type": "code",
   "execution_count": null,
   "metadata": {},
   "outputs": [],
   "source": [
    "CE = {'longitude': 7.5, 'latitude': 47.5}\n",
    "ds_CE = ds.sel(CE)"
   ]
  },
  {
   "cell_type": "code",
   "execution_count": null,
   "metadata": {},
   "outputs": [],
   "source": [
    "sns.scatterplot(ds_CE.nao, ds_CE.temperature_anomaly, rasterized=True);#, hue=ds_CE['time.season']);\n",
    "plt.title(\"7.5°E 47.5°N\");\n",
    "plt.savefig(\"../img/1_scatter_plot.svg\", bbox_inches='tight', pad_inches=.1)"
   ]
  },
  {
   "cell_type": "markdown",
   "metadata": {},
   "source": [
    "### Histograms"
   ]
  },
  {
   "cell_type": "code",
   "execution_count": 10,
   "metadata": {},
   "outputs": [
    {
     "data": {
      "image/png": "[encoded data removed]",
      "text/plain": [
       "<Figure size 432x288 with 1 Axes>"
      ]
     },
     "metadata": {},
     "output_type": "display_data"
    }
   ],
   "source": [
    "t_anom = ds.temperature_anomaly.stack(z=('longitude', 'latitude', 'time')).dropna('z')\n",
    "sns.distplot(\n",
    "    t_anom,\n",
    "    bins=np.arange(-10, 10, .5),\n",
    "    kde=False, norm_hist=False\n",
    ");\n",
    "plt.ylabel(\"Number of observations\");\n",
    "plt.savefig(\"../img/1_histogram.svg\", bbox_inches='tight', pad_inches=.1)"
   ]
  },
  {
   "cell_type": "code",
   "execution_count": null,
   "metadata": {},
   "outputs": [],
   "source": [
    "def my_hist(counts, bins):\n",
    "    fig, ax = plt.subplots()\n",
    "    bin_size = np.diff(bins)\n",
    "    for c, b, b_s in zip(counts, bins, bin_size):\n",
    "        ax.add_patch(mpatch.Rectangle((b, 0.), b_s, c))\n",
    "    ax.set_xlim(bins[0] - bin_size[0] / 2., bins[-1] + .5 * bin_size[-1])\n",
    "    ax.set_ylim(0., 1.1 * counts.max());"
   ]
  },
  {
   "cell_type": "code",
   "execution_count": null,
   "metadata": {},
   "outputs": [],
   "source": [
    "counts, bins = np.histogram(t_anom, bins=np.arange(-10, 10.1, .5))\n",
    "counts = counts / t_anom.count().values\n",
    "my_hist(counts, bins)\n",
    "plt.xlabel('temperature anomaly [°C]');"
   ]
  },
  {
   "cell_type": "code",
   "execution_count": null,
   "metadata": {},
   "outputs": [],
   "source": [
    "counts, bins = np.histogram(t_anom, bins=(-10, 0., 1, 2, 3, 10, 11))\n",
    "counts = counts / t_anom.count().values\n",
    "my_hist(counts, bins)\n",
    "plt.xlabel('temperature anomaly [°C]');"
   ]
  },
  {
   "cell_type": "code",
   "execution_count": null,
   "metadata": {},
   "outputs": [],
   "source": [
    "counts, bins = np.histogram(t_anom, bins=(-10, -5., 0., 1, 2, 3, 10, 11))\n",
    "counts = counts / t_anom.count().values / np.diff(bins)\n",
    "my_hist(counts, bins)\n",
    "plt.xlabel('temperature anomaly [°C]');\n",
    "plt.ylabel('1/°C');"
   ]
  },
  {
   "cell_type": "code",
   "execution_count": null,
   "metadata": {},
   "outputs": [],
   "source": [
    "bin_size = .5\n",
    "sns.distplot(\n",
    "    t_anom,\n",
    "    bins=np.arange(-10, 10, bin_size),\n",
    "    kde=False, norm_hist=True\n",
    ");\n",
    "plt.ylabel(\"1/°C\");"
   ]
  },
  {
   "cell_type": "code",
   "execution_count": null,
   "metadata": {},
   "outputs": [],
   "source": [
    "f, ax = plt.subplots(2, 2)\n",
    "for a, season in zip(ax.flatten(), ('DJF', 'MAM', 'JJA', 'SON')):\n",
    "    data = ds_CE.where(ds_CE['time.season']==season)\n",
    "    a.hexbin(data['nao'], data['temperature_anomaly'], label=season,\n",
    "             cmap=sns.cm.mpl_cm.Blues, gridsize=20, extent=(-5, 5, -5, 5));\n",
    "    a.text(-4., 4, season, fontsize=15)\n",
    "    a.set_xlabel('NAO')\n",
    "    a.set_ylabel('temperature anomaly [K]')\n",
    "#     a.set_xlim(-5, 5)\n",
    "#     a.set_ylim(-5, 5)\n",
    "#     a.legend()\n",
    "plt.gcf().set_size_inches(10., 10.)\n",
    "plt.tight_layout();"
   ]
  },
  {
   "cell_type": "code",
   "execution_count": null,
   "metadata": {},
   "outputs": [],
   "source": [
    "f, ax = plt.subplots(2, 2)\n",
    "for a, season in zip(ax.flatten(), ('DJF', 'MAM', 'JJA', 'SON')):\n",
    "    sns.distplot(ds.where(ds['time.season'] == season).nao.dropna('time'), ax=a,label=season,\n",
    "                 kde=False, norm_hist=True, bins=np.arange(-5., 5.1, .5));\n",
    "    a.legend();\n",
    "plt.gcf().set_size_inches(10., 10.)\n",
    "plt.tight_layout();"
   ]
  },
  {
   "cell_type": "markdown",
   "metadata": {},
   "source": [
    "# Maps"
   ]
  },
  {
   "cell_type": "code",
   "execution_count": null,
   "metadata": {},
   "outputs": [],
   "source": [
    "ds.temperature_anomaly.isel(time=-5).plot();"
   ]
  },
  {
   "cell_type": "code",
   "execution_count": null,
   "metadata": {},
   "outputs": [],
   "source": [
    "ax = plt.axes(projection=ccrs.PlateCarree(central_longitude=-90))\n",
    "ds.temperature_anomaly.isel(time=-5).plot(ax=ax, transform=ccrs.PlateCarree())\n",
    "ax.set_global(); ax.coastlines(); ax.gridlines();ax.tissot(alpha=.4);"
   ]
  },
  {
   "cell_type": "code",
   "execution_count": null,
   "metadata": {},
   "outputs": [],
   "source": [
    "ax = plt.axes(projection=ccrs.EckertIV(central_longitude=-90))\n",
    "ds.temperature_anomaly.isel(time=-5).plot(ax=ax, transform=ccrs.PlateCarree(), rasterized=True)\n",
    "ax.set_global(); ax.coastlines(); ax.gridlines();# ax.tissot(alpha=.4);\n",
    "\n",
    "plt.savefig(\"../img/1_maps.svg\", bbox_inches='tight', pad_inches=.1)"
   ]
  },
  {
   "cell_type": "code",
   "execution_count": null,
   "metadata": {},
   "outputs": [],
   "source": [
    "ax = plt.axes(projection=ccrs.Mollweide(central_longitude=-90))\n",
    "ds.temperature_anomaly.isel(time=-5).plot(ax=ax, transform=ccrs.PlateCarree())\n",
    "ax.set_global(); ax.coastlines(); ax.gridlines();ax.tissot(facecolor='orange', alpha=0.4);"
   ]
  },
  {
   "cell_type": "code",
   "execution_count": null,
   "metadata": {},
   "outputs": [],
   "source": [
    "ax = plt.axes(projection=ccrs.Robinson(central_longitude=-90))\n",
    "ds.temperature_anomaly.isel(time=-5).plot(ax=ax, transform=ccrs.PlateCarree())\n",
    "ax.set_global(); ax.coastlines(); ax.gridlines();ax.tissot(alpha=0.4);"
   ]
  },
  {
   "cell_type": "code",
   "execution_count": null,
   "metadata": {},
   "outputs": [],
   "source": [
    "ax = plt.axes(projection=ccrs.NearsidePerspective(central_latitude=45., central_longitude=-90))\n",
    "ds.temperature_anomaly.isel(time=-5).plot(ax=ax, transform=ccrs.PlateCarree())\n",
    "ax.set_global(); ax.coastlines(); ax.gridlines(); ax.tissot(alpha=0.4);"
   ]
  },
  {
   "cell_type": "markdown",
   "metadata": {},
   "source": [
    "# Color deficiency plot"
   ]
  },
  {
   "cell_type": "code",
   "execution_count": null,
   "metadata": {},
   "outputs": [],
   "source": [
    "seas_nao[seas_nao['time.season'] == 'DJF'].plot(color='g');\n",
    "\n",
    "plt.twinx()\n",
    "\n",
    "((ds.temperature_anomaly * np.cos(np.pi * ds.latitude / 180.))\n",
    " .mean(('latitude', 'longitude'))\n",
    " .resample(time='1Y').mean('time')\n",
    " .plot(color='r')\n",
    ");\n",
    "plt.ylabel(\"Temperatur anomaly\");\n",
    "plt.savefig(\"../img/1_cvd.svg\", bbox_inches='tight', pad_inches=.1);"
   ]
  },
  {
   "cell_type": "code",
   "execution_count": null,
   "metadata": {},
   "outputs": [],
   "source": []
  }
 ],
 "metadata": {
  "kernelspec": {
   "display_name": "Python [conda env:py36_std]",
   "language": "python",
   "name": "conda-env-py36_std-py"
  },
  "language_info": {
   "codemirror_mode": {
    "name": "ipython",
    "version": 3
   },
   "file_extension": ".py",
   "mimetype": "text/x-python",
   "name": "python",
   "nbconvert_exporter": "python",
   "pygments_lexer": "ipython3",
   "version": "3.6.8"
  }
 },
 "nbformat": 4,
 "nbformat_minor": 2
}
