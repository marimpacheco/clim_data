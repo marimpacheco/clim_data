{
 "cells": [
  {
   "cell_type": "markdown",
   "metadata": {},
   "source": [
    "# Testing for COVID-19\n",
    "\n",
    "This is an application of Bayes rule on conditional probability. However, we are not applying Bayes rule directly, but we a using a simulation to virtually test the whole German population for COVID-19. Finally, we want to compute the probability, that is the relative frequency, of being infected if someone is tested positive.\n",
    "\n",
    "Here are the assumptions:\n",
    "-  The infection rate in Germany is estimated as the ratio of current infections to the total number of German citizen. Note that we neglect the possibility of undicovered infections.\n",
    "-  The sensitivity of the COVID-19 test is 93.8%. This is the rate of true positiv results, that is getting a postive result if the person is actually infected.\n",
    "-  The specificity of the test is 95.6%. This is the rate of true negative results, i.e. getting a negative result if the person is not infected."
   ]
  },
  {
   "cell_type": "code",
   "execution_count": 1,
   "metadata": {},
   "outputs": [],
   "source": [
    "import numpy as np\n",
    "import scipy.stats as st\n",
    "\n",
    "sensitivity = 0.938\n",
    "specificity = 0.956\n",
    "\n",
    "infection_rate = 125e3 / 8e7"
   ]
  },
  {
   "cell_type": "markdown",
   "metadata": {},
   "source": [
    "# Simple implementation\n",
    "\n",
    "We implement a test for a single person as the function `test()`. First we determin if the person is actually infected or not. We do this by drawing a random number from a [Bernoulli distribution](https://en.wikipedia.org/wiki/Bernoulli_distribution). We can use the Bernoulli distribution to simulate the outcome of an experiment which has only two possible outcomes with known probabilities.\n",
    "\n",
    "Depending on the infection state of the person, we determine the test result. We use either the sensitivity as probability for a positive test if the person is infected or 1 minus the specificity (since we are looking for positive test results).\n",
    "\n",
    "We return both the infection status as well as the test result."
   ]
  },
  {
   "cell_type": "code",
   "execution_count": 2,
   "metadata": {},
   "outputs": [],
   "source": [
    "def test():\n",
    "    infected = st.bernoulli.rvs(p=infection_rate)\n",
    "    if infected:\n",
    "        positive = st.bernoulli.rvs(p=sensitivity)\n",
    "    else:\n",
    "        positive = st.bernoulli.rvs(p=(1 - specificity))\n",
    "    return [infected, positive]"
   ]
  },
  {
   "cell_type": "markdown",
   "metadata": {},
   "source": [
    "Now, we are setting up the simulation and test 1000000 persons."
   ]
  },
  {
   "cell_type": "code",
   "execution_count": 3,
   "metadata": {},
   "outputs": [
    {
     "name": "stdout",
     "output_type": "stream",
     "text": [
      "CPU times: user 6.48 s, sys: 186 ms, total: 6.66 s\n",
      "Wall time: 6.52 s\n"
     ]
    }
   ],
   "source": [
    "%%time\n",
    "results = []\n",
    "\n",
    "for i in range(100000):\n",
    "    results.append(test())\n",
    "\n",
    "results = np.array(results)"
   ]
  },
  {
   "cell_type": "markdown",
   "metadata": {},
   "source": [
    "We want to compute the probability of being infected when tested positive. To select only the positively tested persons, we create a boolean index array. We then sum over the first column of the selection to count the infected persons. The ratio of that number to the number of all positive test is the probability of being infected if tested positive."
   ]
  },
  {
   "cell_type": "code",
   "execution_count": 4,
   "metadata": {},
   "outputs": [
    {
     "name": "stdout",
     "output_type": "stream",
     "text": [
      "Probability of being infected if tested positive: 3.17%\n"
     ]
    }
   ],
   "source": [
    "positive = results[:, 1]==1\n",
    "n_positive_and_infected = results[positive, 0].sum()\n",
    "\n",
    "p_positive_and_infected = n_positive_and_infected / positive.sum()\n",
    "\n",
    "print(\"Probability of being infected if tested positive: {:.2f}%\".format(100 * p_positive_and_infected))"
   ]
  },
  {
   "cell_type": "code",
   "execution_count": 5,
   "metadata": {},
   "outputs": [
    {
     "name": "stdout",
     "output_type": "stream",
     "text": [
      "Probability of being infected: 0.15%\n",
      "Probability of being infected if tested negative: 0.01%\n"
     ]
    }
   ],
   "source": [
    "print(\"Probability of being infected: {:.2f}%\".format(\n",
    "    100 * results[:, 0].sum() / results.shape[0]\n",
    "))\n",
    "print(\"Probability of being infected if tested negative: {:.2f}%\".format(\n",
    "    100 * results[~positive, 0].sum() / (~positive).sum()\n",
    "))"
   ]
  },
  {
   "cell_type": "markdown",
   "metadata": {},
   "source": [
    "# Computational efficient implementation\n",
    "The above implementation of the `test()` function is not very efficient because this function is called for each person individually.\n",
    "It is much more efficient to draw larger sets of random numbers at once. This is achived in the implementation below."
   ]
  },
  {
   "cell_type": "code",
   "execution_count": 6,
   "metadata": {},
   "outputs": [],
   "source": [
    "chunk_size = 10000\n",
    "\n",
    "def test():\n",
    "    infected = st.bernoulli.rvs(p=infection_rate, size=chunk_size)\n",
    "    positive = np.where(\n",
    "        infected == 1,\n",
    "        st.bernoulli.rvs(p=sensitivity, size=chunk_size),\n",
    "        st.bernoulli.rvs(p=(1 - specificity), size=chunk_size)\n",
    "    )\n",
    "    \n",
    "    # Here we convert the data to boolean (True or False) to reduce the memory footprint\n",
    "    return np.vstack((infected, positive)).astype(np.bool)"
   ]
  },
  {
   "cell_type": "code",
   "execution_count": 7,
   "metadata": {},
   "outputs": [
    {
     "name": "stdout",
     "output_type": "stream",
     "text": [
      "CPU times: user 5.18 s, sys: 118 ms, total: 5.3 s\n",
      "Wall time: 5.31 s\n"
     ]
    }
   ],
   "source": [
    "%%time\n",
    "results = []\n",
    "\n",
    "# do not forget to make your results reproducible\n",
    "np.random.seed(0)\n",
    "\n",
    "for i in range(int(8e7//chunk_size)):\n",
    "    test_result = test()\n",
    "    results.append(test_result)\n",
    "\n",
    "results = np.concatenate(results, axis=1)"
   ]
  },
  {
   "cell_type": "markdown",
   "metadata": {},
   "source": [
    "Now, we can actually test the whole population in a couple of seconds"
   ]
  },
  {
   "cell_type": "code",
   "execution_count": 8,
   "metadata": {},
   "outputs": [
    {
     "name": "stdout",
     "output_type": "stream",
     "text": [
      "Probability of being infected if tested positive: 3.22%\n"
     ]
    }
   ],
   "source": [
    "# we can use boolean arrays to index (select) rows or columns\n",
    "positive = results[1]\n",
    "n_positive_and_infected = results[0, positive].sum()\n",
    "\n",
    "p_positive_and_infected = n_positive_and_infected / positive.sum()\n",
    "print(\"Probability of being infected if tested positive: {:.2f}%\".format(100 * p_positive_and_infected))"
   ]
  },
  {
   "cell_type": "code",
   "execution_count": 9,
   "metadata": {},
   "outputs": [
    {
     "name": "stdout",
     "output_type": "stream",
     "text": [
      "Probability of being infected: 0.16%\n",
      "Probability of being infected if tested negative: 0.01%\n"
     ]
    }
   ],
   "source": [
    "print(\"Probability of being infected: {:.2f}%\".format(\n",
    "    100 * results[0].sum() / results.shape[1]\n",
    "))\n",
    "n_negative_and_infected = results[0, ~positive].sum()\n",
    "print(\"Probability of being infected if tested negative: {:.2f}%\".format(\n",
    "    100 * n_negative_and_infected / (~positive).sum()\n",
    "))"
   ]
  },
  {
   "cell_type": "markdown",
   "metadata": {},
   "source": [
    "# Check using Bayes rule\n",
    "\n",
    "Bayes rule states that\n",
    "\n",
    "$$ P(A|B) = \\frac{P(B|A)P(A)}{P(B)}$$\n",
    "\n",
    "Here, A is the event of being infected and B is the event of being tested positve. Hence P(A|B) is the probability of being infected if tested positive. P(B|A) is the sensitivity of the COVID-19 test and P(A) is the infection rate of the population.\n",
    "\n",
    "However, the probability of being tested positive P(B) is not readily known. But we can compute the probabilty as the sum of the probabilities of being tested positive and being infected and being tested positive and not being infected.\n",
    "\n",
    "$$P(B) = P(A \\cap B) + P(\\overline{A} \\cap B) = P(A)P(B|A) + P(\\overline{A})P(B|\\overline{A})$$\n",
    "\n",
    "The probability of being tested positive while not being infected is 1 minus the specificity of the test.\n",
    "\n",
    "$$P(B|\\overline{A}) = 1 - P(\\overline{B} | \\overline{A})$$\n",
    "\n",
    "Hence we can compute P(B)."
   ]
  },
  {
   "cell_type": "code",
   "execution_count": 10,
   "metadata": {},
   "outputs": [
    {
     "name": "stdout",
     "output_type": "stream",
     "text": [
      "P(B) = 0.0454\n"
     ]
    }
   ],
   "source": [
    "p_B = infection_rate * sensitivity + (1 - infection_rate) * (1 - specificity)\n",
    "print(\"P(B) = {:.4f}\".format(p_B))"
   ]
  },
  {
   "cell_type": "code",
   "execution_count": 11,
   "metadata": {},
   "outputs": [
    {
     "name": "stdout",
     "output_type": "stream",
     "text": [
      "Probability of being infected when tested positive P(A|B) = 0.0323\n"
     ]
    }
   ],
   "source": [
    "p_A_under_B = sensitivity * infection_rate / p_B\n",
    "\n",
    "print(\"Probability of being infected when tested positive P(A|B) = {:.4f}\".format(p_A_under_B))"
   ]
  },
  {
   "cell_type": "markdown",
   "metadata": {},
   "source": [
    "Note that the result from using Bayes rule is an exact result and it is the expected outcome of a simulation.\n",
    "However, the outcome of a particular simulation differs from the exact value because of chance variation while performing the simulation."
   ]
  }
 ],
 "metadata": {
  "kernelspec": {
   "display_name": "Python 3",
   "language": "python",
   "name": "python3"
  },
  "language_info": {
   "codemirror_mode": {
    "name": "ipython",
    "version": 3
   },
   "file_extension": ".py",
   "mimetype": "text/x-python",
   "name": "python",
   "nbconvert_exporter": "python",
   "pygments_lexer": "ipython3",
   "version": "3.7.3"
  }
 },
 "nbformat": 4,
 "nbformat_minor": 2
}
